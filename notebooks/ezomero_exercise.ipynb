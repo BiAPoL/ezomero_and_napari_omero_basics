{
 "cells": [
  {
   "cell_type": "markdown",
   "id": "36ea341c",
   "metadata": {},
   "source": [
    "*This notebook was adapted from [here](https://github.com/rmassei/2024-jn-omero-pipeline), with thanks to the original author Riccardo Massei.*"
   ]
  },
  {
   "cell_type": "markdown",
   "id": "f5d4f838f7c498b",
   "metadata": {},
   "source": [
    "# Workflow from OMERO - Cell Nuclei Segmentation"
   ]
  },
  {
   "cell_type": "markdown",
   "id": "d4a63d6d53187b4d",
   "metadata": {},
   "source": [
    "The present jupyter notebook shows an automatic pipeline to fetch data from OMERO, perform several processing steps and push back the results OMERO adding potential metadata and Region of Interest (ROIs).\n",
    "\n",
    "We suggest having OMERO web opened in a browser tab to follow the updates. Remember to click on the update button after new uploads:\n",
    "\n",
    "![](../screenshots/omero_update_button.png)"
   ]
  },
  {
   "cell_type": "markdown",
   "id": "47e0f7a3",
   "metadata": {},
   "source": [
    "Most functions are based on [ezomero](https://github.com/TheJacksonLaboratory/ezomero?tab=readme-ov-file#ezomero) and [scikit-image](https://scikit-image.org/). A few commands come from the OMERO Python bindings. Please refer to the documentation of these packages for the functions details:\n",
    "- [ezomero API documentation](https://thejacksonlaboratory.github.io/ezomero/genindex.html)\n",
    "- [scikit-image API documentation](https://scikit-image.org/docs/stable/api/api.html)\n",
    "- [OMERO Python language bindings](https://omero.readthedocs.io/en/v5.6.9/developers/Python.html)"
   ]
  },
  {
   "cell_type": "markdown",
   "id": "d2bbc05fa11069c4",
   "metadata": {},
   "source": [
    "## 1) Import Packages"
   ]
  },
  {
   "cell_type": "code",
   "execution_count": null,
   "id": "cbdd4921d0c88a36",
   "metadata": {},
   "outputs": [],
   "source": [
    "import getpass\n",
    "\n",
    "import ezomero\n",
    "import pandas as pd\n",
    "import tifffile\n",
    "import numpy as np\n",
    "\n",
    "from skimage import filters, morphology, measure\n",
    "from skimage.color import label2rgb\n",
    "from matplotlib import pyplot as plt"
   ]
  },
  {
   "cell_type": "markdown",
   "id": "845d4b97b9323dfe",
   "metadata": {},
   "source": [
    "## 2) Set Parameters to login into OMERO"
   ]
  },
  {
   "cell_type": "markdown",
   "id": "b09a8102fd848e68",
   "metadata": {},
   "source": [
    "Add here your username or password. Adjust the OMERO host and port accordingly."
   ]
  },
  {
   "cell_type": "code",
   "execution_count": null,
   "id": "5f1fe906849d9397",
   "metadata": {},
   "outputs": [],
   "source": [
    "OMEROUSER = input(f\"Enter username: \\t\")\n",
    "OMEROPASS = getpass.getpass(prompt = f\"Enter password: \\t\")\n",
    "OMEROGROUP = \"workshop_2025\"\n",
    "OMEROHOST = \"141.76.16.87\"\n",
    "OMEROPORT = 4064"
   ]
  },
  {
   "cell_type": "markdown",
   "id": "ed7d877bfebc5f56",
   "metadata": {},
   "source": [
    "## 3) Connect to OMERO"
   ]
  },
  {
   "cell_type": "code",
   "execution_count": null,
   "id": "8655167d752b4f8c",
   "metadata": {},
   "outputs": [],
   "source": [
    "# Connection Check:\n",
    "conn=ezomero.connect(user=OMEROUSER, \n",
    "                     password=OMEROPASS, \n",
    "                     group=OMEROGROUP, \n",
    "                     host=OMEROHOST, \n",
    "                     port=OMEROPORT, \n",
    "                     secure=True)"
   ]
  },
  {
   "cell_type": "code",
   "execution_count": null,
   "id": "f519b7b0",
   "metadata": {},
   "outputs": [],
   "source": [
    "## Information about the connection and its status\n",
    "print(conn.isConnected())\n",
    "user = conn.getUser()\n",
    "print(\"Current user:\")\n",
    "print(\"   ID:\", user.getId())\n",
    "print(\"   Username:\", user.getName())\n",
    "print(\"   Full Name:\", user.getFullName())"
   ]
  },
  {
   "cell_type": "markdown",
   "id": "9a76f68e0a307fd0",
   "metadata": {},
   "source": [
    "## 4) Browse your OMERO project folder"
   ]
  },
  {
   "cell_type": "markdown",
   "id": "47b567d74114607c",
   "metadata": {},
   "source": [
    "Browse your project and have an overview on the project and their content"
   ]
  },
  {
   "cell_type": "code",
   "execution_count": null,
   "id": "94c30a1385878885",
   "metadata": {},
   "outputs": [],
   "source": [
    "proj_ids = ezomero.get_project_ids(conn)\n",
    "print(\"Current Project IDs: {proj_ids}\".format(proj_ids=proj_ids))"
   ]
  },
  {
   "cell_type": "code",
   "execution_count": null,
   "id": "738a8de6",
   "metadata": {},
   "outputs": [],
   "source": [
    "project_id = "
   ]
  },
  {
   "cell_type": "code",
   "execution_count": null,
   "id": "3df70b21",
   "metadata": {},
   "outputs": [],
   "source": [
    "ds_ids = ezomero.get_dataset_ids(conn, project=project_id)\n",
    "print(\"Current Dataset IDs: {ds_ids}\".format(ds_ids=ds_ids))"
   ]
  },
  {
   "cell_type": "code",
   "execution_count": null,
   "id": "5e94ed32",
   "metadata": {},
   "outputs": [],
   "source": [
    "dataset_id = "
   ]
  },
  {
   "cell_type": "code",
   "execution_count": null,
   "id": "ac906ae8",
   "metadata": {},
   "outputs": [],
   "source": [
    "img_ids = ezomero.get_image_ids(conn, dataset=dataset_id)\n",
    "print(\"Current Image IDs: {img_ids}\".format(img_ids=img_ids))"
   ]
  },
  {
   "cell_type": "code",
   "execution_count": null,
   "id": "57a8b783",
   "metadata": {},
   "outputs": [],
   "source": [
    "img_id = "
   ]
  },
  {
   "cell_type": "markdown",
   "id": "1c65803fa06f9644",
   "metadata": {},
   "source": [
    "### 4.1) Select your image\n",
    "\n",
    "Read image object and image pixel data. Check the [ezomero.get_image](https://thejacksonlaboratory.github.io/ezomero/ezomero.html#ezomero.get_image) documentation."
   ]
  },
  {
   "cell_type": "code",
   "execution_count": null,
   "id": "101d168ab794e106",
   "metadata": {},
   "outputs": [],
   "source": [
    "img_obj, image = ezomero.get_image() # fill in the necessary arguments"
   ]
  },
  {
   "cell_type": "markdown",
   "id": "33fa83bf9a44ccea",
   "metadata": {},
   "source": [
    "### 4.2) Get information about your image"
   ]
  },
  {
   "cell_type": "code",
   "execution_count": null,
   "id": "fd05a16b271829a4",
   "metadata": {},
   "outputs": [],
   "source": [
    "print(\"Image name: \", img_obj.getName(), img_obj.getDescription())\n",
    "# Retrieve information about an image.\n",
    "print(\"Image shape (TZYXC):\", image.shape)\n",
    "# List Channels (loads the Rendering settings to get channel colors)\n",
    "for channel in img_obj.getChannels():\n",
    "    print ('Channel:', channel.getLabel(),)\n",
    "    print ('Color:', channel.getColor().getRGB())\n",
    "    print ('Lookup table:', channel.getLut())"
   ]
  },
  {
   "cell_type": "markdown",
   "id": "9ed6be82687a61e4",
   "metadata": {},
   "source": [
    "### 4.3) Plot your images"
   ]
  },
  {
   "cell_type": "code",
   "execution_count": null,
   "id": "c96d154c",
   "metadata": {},
   "outputs": [],
   "source": [
    "# Remove unitary dimensions\n",
    "nuclei = np.squeeze(image)\n",
    "print(\"Image shape:\", nuclei.shape)"
   ]
  },
  {
   "cell_type": "code",
   "execution_count": null,
   "id": "ef1fb7ad3b774d2d",
   "metadata": {},
   "outputs": [],
   "source": [
    "fig, axs = plt.subplots(1,1, figsize=(10,10))\n",
    "axs.imshow(nuclei, cmap='gray')\n",
    "axs.set_title(f'{img_obj.getName()}')"
   ]
  },
  {
   "cell_type": "markdown",
   "id": "8c9811578b2e3f51",
   "metadata": {},
   "source": [
    "## 5) Image Processing 1 - Denoising"
   ]
  },
  {
   "cell_type": "markdown",
   "id": "311aacf10ff90d5b",
   "metadata": {},
   "source": [
    "Apply a gaussian filter to denoise"
   ]
  },
  {
   "cell_type": "code",
   "execution_count": null,
   "id": "50998bbe30902e16",
   "metadata": {},
   "outputs": [],
   "source": [
    "nuclei_gaussian = filters.gaussian(image=nuclei,\n",
    "                                   sigma=2)\n",
    "\n",
    "fig, axs = plt.subplots(1,2, figsize=(10,10))\n",
    "axs[0].imshow(nuclei, cmap='gray')\n",
    "axs[0].set_title('Nuclei - Original')\n",
    "axs[1].imshow(nuclei_gaussian, cmap='gray')\n",
    "axs[1].set_title('Nuclei - Processed')"
   ]
  },
  {
   "cell_type": "markdown",
   "id": "1da9d1bc920e8e6",
   "metadata": {},
   "source": [
    "## 6) Image Processing 2 - Binarization and Labelling"
   ]
  },
  {
   "cell_type": "markdown",
   "id": "f6a603103f9f73f4",
   "metadata": {},
   "source": [
    "Apply a OTSU threshold and create the labelling"
   ]
  },
  {
   "cell_type": "code",
   "execution_count": null,
   "id": "20b95672714aa665",
   "metadata": {},
   "outputs": [],
   "source": [
    "# Create a disk with radius = 3\n",
    "disk = morphology.disk(radius=3)\n",
    "\n",
    "# Apply Otsu thresholding\n",
    "threshold = filters.threshold_otsu(nuclei_gaussian)\n",
    "binary_image = nuclei_gaussian >= threshold\n",
    "\n",
    "# Apply binary opening\n",
    "opened = morphology.binary_opening(image=binary_image,\n",
    "                                    footprint=disk)\n",
    "\n",
    "# Label nuclei\n",
    "labeled_nuclei = measure.label(opened)\n",
    "\n",
    "# Remove small objects\n",
    "cleaned = morphology.remove_small_objects(ar=labeled_nuclei, \n",
    "                                          min_size=50)\n",
    "\n",
    "# Create overlay\n",
    "image_label_overlay = label2rgb(label=cleaned,\n",
    "                                image=nuclei,\n",
    "                                bg_label=0)\n",
    "\n",
    "fig, axs = plt.subplots(1,3, figsize=(15,10))\n",
    "axs[0].imshow(nuclei_gaussian, cmap='gray')\n",
    "axs[0].set_title('Original')\n",
    "axs[1].imshow(binary_image, cmap='gray')\n",
    "axs[1].set_title('Binary')\n",
    "axs[2].imshow(image_label_overlay)\n",
    "axs[2].set_title('Labels')"
   ]
  },
  {
   "cell_type": "markdown",
   "id": "422aad74746ae795",
   "metadata": {},
   "source": [
    "Save the labelled image locally as a TIFF file (optional)"
   ]
  },
  {
   "cell_type": "code",
   "execution_count": null,
   "id": "dfc79d43dc9a6122",
   "metadata": {},
   "outputs": [],
   "source": [
    "tifffile.imwrite('test.tif', \n",
    "                 data=cleaned, \n",
    "                 dtype=cleaned.dtype, \n",
    "                 shape=cleaned.shape)"
   ]
  },
  {
   "cell_type": "markdown",
   "id": "dd3a7801280e9121",
   "metadata": {},
   "source": [
    "## 7) Extract table with features"
   ]
  },
  {
   "cell_type": "code",
   "execution_count": null,
   "id": "311a9cb1804d1fc0",
   "metadata": {},
   "outputs": [],
   "source": [
    "properties = ['label', 'area', 'mean_intensity', 'major_axis_length', 'minor_axis_length']\n",
    "features = measure.regionprops_table(label_image=cleaned,\n",
    "                                       intensity_image=nuclei,\n",
    "                                       properties=properties)\n",
    "df = pd.DataFrame(features)\n",
    "df"
   ]
  },
  {
   "cell_type": "markdown",
   "id": "41d439c7",
   "metadata": {},
   "source": [
    "Save table locally as a CSV file (optional)"
   ]
  },
  {
   "cell_type": "code",
   "execution_count": null,
   "id": "a63fa31b601655a3",
   "metadata": {},
   "outputs": [],
   "source": [
    "df.to_csv(\"feature_extraction.csv\")"
   ]
  },
  {
   "cell_type": "markdown",
   "id": "76a9d7acc966f11f",
   "metadata": {},
   "source": [
    "## 8) Push back the results to OMERO and add metadata plus other information\n",
    "\n",
    "Make image 5D for importing into OMERO"
   ]
  },
  {
   "cell_type": "code",
   "execution_count": null,
   "id": "0068132a",
   "metadata": {},
   "outputs": [],
   "source": [
    "labelled_nuclei = cleaned[np.newaxis, np.newaxis, :, :, np.newaxis] # tzyxc\n",
    "print(\"Labels new shape (TZYXC):\", labelled_nuclei.shape)"
   ]
  },
  {
   "cell_type": "markdown",
   "id": "47924736",
   "metadata": {},
   "source": [
    "Create a new dataset. Check the [ezomero.post_dataset](https://thejacksonlaboratory.github.io/ezomero/ezomero.html#ezomero.post_dataset) documentation."
   ]
  },
  {
   "cell_type": "code",
   "execution_count": null,
   "id": "4750c9877cf57397",
   "metadata": {},
   "outputs": [],
   "source": [
    "## Create a new dataset\n",
    "new_dataset_id = ezomero.post_dataset() # fill in the necessary arguments"
   ]
  },
  {
   "cell_type": "markdown",
   "id": "ab60b14c",
   "metadata": {},
   "source": [
    "Create a new image with the labelled nuclei data in the new dataset. Check the [ezomero.post_image](https://thejacksonlaboratory.github.io/ezomero/ezomero.html#ezomero.post_image) documentation. pay attention to the `dim_order` parameter, it must match the shape of your image."
   ]
  },
  {
   "cell_type": "code",
   "execution_count": null,
   "id": "96227c04",
   "metadata": {},
   "outputs": [],
   "source": [
    "# Push image to new dataset \n",
    "new_image_id = ezomero.post_image() # fill in the necessary arguments"
   ]
  },
  {
   "cell_type": "markdown",
   "id": "09663f66",
   "metadata": {},
   "source": [
    "### 8.1) Add key-value pairs as annotations\n",
    "\n",
    "Key values pairs can be added to the image as annotations from a python dictionary. We created a `kv_pairs` dictionary below. Post these annotations to the processed image using the [ezomero.post_map_annotation](https://thejacksonlaboratory.github.io/ezomero/ezomero.html#ezomero.post_map_annotation) function."
   ]
  },
  {
   "cell_type": "code",
   "execution_count": null,
   "id": "ac809e03",
   "metadata": {},
   "outputs": [],
   "source": [
    "kv_pairs = {\n",
    "    \"Analysis Result Type\" : \"Processed\",\n",
    "    \"Data Used for The Analysis\": f\"{img_obj.getName()}\",\n",
    "    \"Analysis method and details\" : \"Skimage\"\n",
    "}\n",
    "\n",
    "map_ann_id = ezomero.post_map_annotation() # fill in the necessary arguments"
   ]
  },
  {
   "cell_type": "markdown",
   "id": "1a43bab851a39ae3",
   "metadata": {},
   "source": [
    "### 8.2) Add description and table with the results\n",
    "\n",
    "Add a description to the image using the [ezomero.put_description](https://thejacksonlaboratory.github.io/ezomero/ezomero.html#ezomero.put_description) function."
   ]
  },
  {
   "cell_type": "code",
   "execution_count": null,
   "id": "e4eaf87206b51403",
   "metadata": {},
   "outputs": [],
   "source": [
    "# Update existing description\n",
    "ezomero.put_description(conn,\n",
    "                        obj_type='Image',\n",
    "                        obj_id=new_image_id,\n",
    "                        desc=\"This Image Was Created\")"
   ]
  },
  {
   "cell_type": "markdown",
   "id": "157f895c",
   "metadata": {},
   "source": [
    "Add table results using the [ezomero.post_table](https://thejacksonlaboratory.github.io/ezomero/ezomero.html#ezomero.post_table) function."
   ]
  },
  {
   "cell_type": "code",
   "execution_count": null,
   "id": "9dccbc60",
   "metadata": {},
   "outputs": [],
   "source": [
    "# Post table\n",
    "table_id = ezomero.post_table(conn, \n",
    "                              table=df, \n",
    "                              object_type=\"Image\",\n",
    "                              object_id=new_image_id,\n",
    "                              title='Features Results',\n",
    "                              headers=True) # this uploads the file, but it cannot be viewed or downloaded properly in OMERO Insight, only in OMERO web with omero table"
   ]
  },
  {
   "cell_type": "markdown",
   "id": "a15056771f3a0bae",
   "metadata": {},
   "source": [
    "## 9) Close Connection"
   ]
  },
  {
   "cell_type": "markdown",
   "id": "23264f3c",
   "metadata": {},
   "source": [
    "Run the cell below to properly close the connection to OMERO. If you need to re-open it, connect again by running the [3) Connect to OMERO](#3_connect_to_omero)-cell."
   ]
  },
  {
   "cell_type": "code",
   "execution_count": null,
   "id": "390299e2a511a7c5",
   "metadata": {},
   "outputs": [],
   "source": [
    "conn.close()"
   ]
  },
  {
   "cell_type": "markdown",
   "id": "fe3c5eb1d5989e8b",
   "metadata": {},
   "source": [
    "## 10) OPTIONAL - Add masks as ROIs"
   ]
  },
  {
   "cell_type": "markdown",
   "id": "f5fb891447172841",
   "metadata": {},
   "source": [
    "Add the labelling directly as ROIs in OMERO with ezomero. \n",
    "\n",
    "Some useful functions are:\n",
    "- [skimage.measure.regionprops](https://scikit-image.org/docs/stable/api/skimage.measure.html#skimage.measure.regionprops), particularly the `coords` attribute to get the pixel coordinates of each labelled region\n",
    "- [ezomero.rois.Polygon](https://thejacksonlaboratory.github.io/ezomero/ezomero.html#ezomero.rois.Polygon)\n",
    "- [ezomero.post_roi](https://thejacksonlaboratory.github.io/ezomero/ezomero.html#ezomero.post_roi)\n",
    "\n",
    "*Advanced: use the glasbey colormap from the [cmap](https://cmap-docs.readthedocs.io/en/stable/colors/#usage) library below to color each ROI differently*\n",
    "\n",
    "<details>\n",
    "  <summary>Click here to see a more details for a possible implementation</summary>\n",
    "\n",
    "- Get each labelled region coordinates from the labelled image using `coords` from [skimage.measure.regionprops](https://scikit-image.org/docs/stable/api/skimage.measure.html#skimage.measure.regionprops)\n",
    "- Make a list of [ezomero.rois.Polygon](https://thejacksonlaboratory.github.io/ezomero/ezomero.html#ezomero.rois.Polygon)\n",
    "- Use ezomero to post the list of polygons as ROIs to the original image\n",
    "\n",
    "</details>"
   ]
  },
  {
   "cell_type": "code",
   "execution_count": null,
   "id": "bcbe7e8a",
   "metadata": {},
   "outputs": [],
   "source": [
    "# from cmap import Colormap\n",
    "# glasbey_cm = Colormap('glasbey:glasbey') "
   ]
  },
  {
   "cell_type": "code",
   "execution_count": null,
   "id": "47947a7c",
   "metadata": {},
   "outputs": [],
   "source": []
  },
  {
   "cell_type": "markdown",
   "id": "950b54bf0f0c0e89",
   "metadata": {},
   "source": [
    "# Automatize the pipeline trought a dataset on OMERO\n",
    "\n",
    "By getting the image ids, one can easily make a **for** loop in python to run the workflow across all images in a dataset."
   ]
  },
  {
   "cell_type": "code",
   "execution_count": null,
   "id": "67c96c34f3b497fa",
   "metadata": {},
   "outputs": [],
   "source": [
    "dataset = conn.getObject(\"Dataset\", dataset_id)\n",
    "\n",
    "ID =[]\n",
    "\n",
    "for images in dataset.listChildren():\n",
    "    ID.append(images.getId())\n",
    "\n",
    "print(ID)\n",
    "\n",
    "for id in ID:\n",
    "    img = conn.getObject(\"Image\", id)\n",
    "    ### repeat the pipeline ###"
   ]
  },
  {
   "cell_type": "code",
   "execution_count": null,
   "id": "ec082507",
   "metadata": {},
   "outputs": [],
   "source": []
  }
 ],
 "metadata": {
  "kernelspec": {
   "display_name": "napari-omero-ez",
   "language": "python",
   "name": "python3"
  },
  "language_info": {
   "codemirror_mode": {
    "name": "ipython",
    "version": 3
   },
   "file_extension": ".py",
   "mimetype": "text/x-python",
   "name": "python",
   "nbconvert_exporter": "python",
   "pygments_lexer": "ipython3",
   "version": "3.11.13"
  }
 },
 "nbformat": 4,
 "nbformat_minor": 5
}
